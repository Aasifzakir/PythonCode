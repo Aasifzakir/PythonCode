{
  "nbformat": 4,
  "nbformat_minor": 0,
  "metadata": {
    "colab": {
      "name": "Day1.ipynb",
      "provenance": [],
      "collapsed_sections": [],
      "authorship_tag": "ABX9TyO9CgL/qLboK3svL7Oi/1Hy",
      "include_colab_link": true
    },
    "kernelspec": {
      "name": "python3",
      "display_name": "Python 3"
    },
    "language_info": {
      "name": "python"
    }
  },
  "cells": [
    {
      "cell_type": "markdown",
      "metadata": {
        "id": "view-in-github",
        "colab_type": "text"
      },
      "source": [
        "<a href=\"https://colab.research.google.com/github/Aasifzakir/PythonCode/blob/main/Day1.ipynb\" target=\"_parent\"><img src=\"https://colab.research.google.com/assets/colab-badge.svg\" alt=\"Open In Colab\"/></a>"
      ]
    },
    {
      "cell_type": "code",
      "execution_count": null,
      "metadata": {
        "colab": {
          "base_uri": "https://localhost:8080/"
        },
        "id": "a9oyddEoIgdG",
        "outputId": "aa0475c3-60f7-4c4b-8a8c-6947308a0a14"
      },
      "outputs": [
        {
          "output_type": "stream",
          "name": "stdout",
          "text": [
            "Enter the value of num1:11\n",
            "Enter the value of num2:33\n",
            "The sum of 11 and 33 is 44\n"
          ]
        }
      ],
      "source": [
        "num1=int(input(\"Enter the value of num1:\"));\n",
        "num2=int(input(\"Enter the value of num2:\"));\n",
        "sum = num1 + num2;\n",
        "print('The sum of {0} and {1} is {2}'.format(num1,num2,sum,));"
      ]
    },
    {
      "cell_type": "code",
      "source": [
        "num = float(input(\"Enter the value:\"));\n",
        "sqrt = num ** 0.5;\n",
        "print('The square root of the giver number is', sqrt);"
      ],
      "metadata": {
        "colab": {
          "base_uri": "https://localhost:8080/"
        },
        "id": "DFEoiNynIk4b",
        "outputId": "eb896003-69ae-4192-e01a-6d0fc7658019"
      },
      "execution_count": null,
      "outputs": [
        {
          "output_type": "stream",
          "name": "stdout",
          "text": [
            "Enter the value:25\n",
            "The square root of the giver number is 5.0\n"
          ]
        }
      ]
    },
    {
      "cell_type": "code",
      "source": [
        "x= 5;\n",
        "y = 10;\n",
        "temp= x;\n",
        "x = y;\n",
        "y = temp;\n",
        "print('The value of x after swapping',x);\n",
        "print('The value of y after swapping',y);"
      ],
      "metadata": {
        "colab": {
          "base_uri": "https://localhost:8080/"
        },
        "id": "CfsqjX6TIlPg",
        "outputId": "a256cce1-fffd-4036-8576-f5e85833dc5b"
      },
      "execution_count": null,
      "outputs": [
        {
          "output_type": "stream",
          "name": "stdout",
          "text": [
            "The value of x after swapping 10\n",
            "The value of y after swapping 5\n"
          ]
        }
      ]
    },
    {
      "cell_type": "code",
      "source": [
        "import cmath\n",
        "num = 1+2j\n",
        "num_sqrt = cmath.sqrt(num)\n",
        "print('The square root of {0} is {1:0.3f}+{2:0.3f}j'.format(num,num_sqrt.real,num_sqrt.imag))"
      ],
      "metadata": {
        "colab": {
          "base_uri": "https://localhost:8080/"
        },
        "id": "emua2mk_LIr7",
        "outputId": "ff60022e-c91e-4e8e-c57c-013f9e04ad86"
      },
      "execution_count": null,
      "outputs": [
        {
          "output_type": "stream",
          "name": "stdout",
          "text": [
            "The square root of (1+2j) is 1.272+0.786j\n"
          ]
        }
      ]
    },
    {
      "cell_type": "code",
      "source": [
        "a,b,c = 11,12,13\n",
        "s= (a+b+c)/2\n",
        "area= (s*(s-a)*(s-b)*(s-c)) ** 0.5\n",
        "print('The area of the triangle is %0.2f' %area)"
      ],
      "metadata": {
        "colab": {
          "base_uri": "https://localhost:8080/"
        },
        "id": "_gwtROu9OXu0",
        "outputId": "b3014196-779c-46a7-bd20-bf5e7a924b28"
      },
      "execution_count": null,
      "outputs": [
        {
          "output_type": "stream",
          "name": "stdout",
          "text": [
            "The area of the triangle is 61.48\n"
          ]
        }
      ]
    },
    {
      "cell_type": "code",
      "source": [
        "a = b = c ='same'\n",
        "print(a)\n",
        "print(b)\n",
        "print(c)"
      ],
      "metadata": {
        "colab": {
          "base_uri": "https://localhost:8080/"
        },
        "id": "W969Xt9iPHnB",
        "outputId": "045ba8c6-ced3-4b97-923e-efda0a12d520"
      },
      "execution_count": null,
      "outputs": [
        {
          "output_type": "stream",
          "name": "stdout",
          "text": [
            "same\n",
            "same\n",
            "same\n"
          ]
        }
      ]
    },
    {
      "cell_type": "code",
      "source": [
        "x=(1==True)\n",
        "y=(1==False)\n",
        "a=True+4\n",
        "b=False+10\n",
        "print(\"x is\",x)\n",
        "print(\"y is\",y)\n",
        "print(\"a:\",a)\n",
        "print(\"b:\",b)"
      ],
      "metadata": {
        "colab": {
          "base_uri": "https://localhost:8080/"
        },
        "id": "o2Ss4v2Y4Lx3",
        "outputId": "e6407b1d-9138-48f4-ce3e-2aec4e09a94f"
      },
      "execution_count": null,
      "outputs": [
        {
          "output_type": "stream",
          "name": "stdout",
          "text": [
            "x is True\n",
            "y is False\n",
            "a: 5\n",
            "b: 10\n"
          ]
        }
      ]
    },
    {
      "cell_type": "code",
      "source": [
        "website=\"aasifzakir.com\"\n",
        "print(website)\n",
        "website=\"aasifzakir/portfolio.github.io\"\n",
        "print(website)"
      ],
      "metadata": {
        "id": "wgNj8TTg8EsT"
      },
      "execution_count": null,
      "outputs": []
    },
    {
      "cell_type": "code",
      "source": [
        "def maxOfTwo(x, y):\n",
        "  if x > y:\n",
        "    return x\n",
        "  return y\n",
        "def maxOfThree(x,y,z):\n",
        "  return maxOfTwo(x, maxOfTwo(y,z))\n",
        "print(maxOfThree(3,5,7))"
      ],
      "metadata": {
        "colab": {
          "base_uri": "https://localhost:8080/"
        },
        "id": "MTNhi6Q6RA3Y",
        "outputId": "5c320ecd-449d-47c8-a4b3-456de7f1d5dd"
      },
      "execution_count": null,
      "outputs": [
        {
          "output_type": "stream",
          "name": "stdout",
          "text": [
            "7\n"
          ]
        }
      ]
    },
    {
      "cell_type": "code",
      "source": [
        "def sum(numbers):\n",
        "  total = 0\n",
        "  for x in numbers:\n",
        "    total += x \n",
        "  return total\n",
        "print(sum((1,2,3,4,5,6)))"
      ],
      "metadata": {
        "colab": {
          "base_uri": "https://localhost:8080/"
        },
        "id": "ddcRau2-TfjL",
        "outputId": "d59e807c-aa95-44ee-a82b-90521fd989da"
      },
      "execution_count": null,
      "outputs": [
        {
          "output_type": "stream",
          "name": "stdout",
          "text": [
            "21\n"
          ]
        }
      ]
    },
    {
      "cell_type": "code",
      "source": [
        "def sum(numbers):\n",
        "  total = 1\n",
        "  for x in numbers:\n",
        "    total *= x \n",
        "  return total\n",
        "print(sum((2,3,4,5,6)))"
      ],
      "metadata": {
        "colab": {
          "base_uri": "https://localhost:8080/"
        },
        "id": "bkPWKdQ3VetV",
        "outputId": "3799d2f9-c7da-4b2d-a12b-75f52ef1792c"
      },
      "execution_count": null,
      "outputs": [
        {
          "output_type": "stream",
          "name": "stdout",
          "text": [
            "720\n"
          ]
        }
      ]
    },
    {
      "cell_type": "code",
      "source": [
        "def strRev(str):\n",
        "\n",
        "  revstr=''\n",
        "  index = len(str)\n",
        "  while index > 0:\n",
        "    revstr += str[index - 1]\n",
        "    index = index -1\n",
        "  return revstr\n",
        "print(strRev('Aasifzakir'));"
      ],
      "metadata": {
        "colab": {
          "base_uri": "https://localhost:8080/"
        },
        "id": "9BRsaxw_VsZg",
        "outputId": "aed0938c-dbd1-4998-ff28-509cc82aecdb"
      },
      "execution_count": null,
      "outputs": [
        {
          "output_type": "stream",
          "name": "stdout",
          "text": [
            "rikazfisaA\n"
          ]
        }
      ]
    },
    {
      "cell_type": "code",
      "source": [
        "def factorial(n):\n",
        "    if n == 0:\n",
        "        return 1\n",
        "    else:\n",
        "        return n * factorial(n-1)\n",
        "n=int(input(\"Enter a number to compute the factiorial : \"))\n",
        "print(factorial(n))\n"
      ],
      "metadata": {
        "colab": {
          "base_uri": "https://localhost:8080/"
        },
        "id": "NrUcCFFxzAUP",
        "outputId": "c178e1a8-7c62-490e-812c-762e80858d28"
      },
      "execution_count": null,
      "outputs": [
        {
          "output_type": "stream",
          "name": "stdout",
          "text": [
            "Enter a number to compute the factiorial : 50\n",
            "30414093201713378043612608166064768844377641568960512000000000000\n"
          ]
        }
      ]
    },
    {
      "cell_type": "code",
      "source": [
        "def test_range(n):\n",
        "    if n in range(11,20):\n",
        "        print( \" %s is in the range\"%str(n))\n",
        "    else :\n",
        "        print(\"The number is outside the given range.\")\n",
        "test_range(5)"
      ],
      "metadata": {
        "colab": {
          "base_uri": "https://localhost:8080/"
        },
        "id": "V0zm56wlz1Sw",
        "outputId": "d5e6219a-d42b-4e95-90cb-400ad039d05a"
      },
      "execution_count": null,
      "outputs": [
        {
          "output_type": "stream",
          "name": "stdout",
          "text": [
            "The number is outside the given range.\n"
          ]
        }
      ]
    },
    {
      "cell_type": "code",
      "source": [
        "def string_test(s):\n",
        "    d={\"upperCase\":0, \"lowerCase\":0}\n",
        "    for c in s:\n",
        "        if c.isupper():\n",
        "           d[\"upperCase\"]+=1\n",
        "        elif c.islower():\n",
        "           d[\"lowerCase\"]+=1\n",
        "        else:\n",
        "           pass\n",
        "    print (\"Original String : \", s)\n",
        "    print (\"No. of Upper case characters : \", d[\"upperCase\"])\n",
        "    print (\"No. of Lower case Characters : \", d[\"lowerCase\"])\n",
        "\n",
        "string_test('We Are Software Developers')\n"
      ],
      "metadata": {
        "colab": {
          "base_uri": "https://localhost:8080/"
        },
        "id": "_uYBBdG4z1pH",
        "outputId": "87fc5140-5d0e-4bff-8996-811d139aef65"
      },
      "execution_count": null,
      "outputs": [
        {
          "output_type": "stream",
          "name": "stdout",
          "text": [
            "Original String :  We Are Software Developers\n",
            "No. of Upper case characters :  4\n",
            "No. of Lower case Characters :  19\n"
          ]
        }
      ]
    },
    {
      "cell_type": "code",
      "source": [
        "def uniqueList(l):\n",
        "  x = []\n",
        "  for a in l:\n",
        "    if a not in x:\n",
        "      x.append(a)\n",
        "  return x\n",
        "\n",
        "print(uniqueList([1,2,3,3,3,3,4,5])) \n"
      ],
      "metadata": {
        "colab": {
          "base_uri": "https://localhost:8080/"
        },
        "id": "569gDiu-z10m",
        "outputId": "3770f68f-daea-49ff-b3d1-0b9eecd95fbb"
      },
      "execution_count": null,
      "outputs": [
        {
          "output_type": "stream",
          "name": "stdout",
          "text": [
            "[1, 2, 3, 4, 5]\n"
          ]
        }
      ]
    },
    {
      "cell_type": "code",
      "source": [
        "def testPrime(n):\n",
        "    if (n==1):\n",
        "        return False;\n",
        "    elif (n==2):\n",
        "        return True;\n",
        "    else:\n",
        "        for x in range(2,n):\n",
        "            if(n % x==0):\n",
        "                return False;\n",
        "        return True;             \n",
        "print(testPrime(23));\n"
      ],
      "metadata": {
        "colab": {
          "base_uri": "https://localhost:8080/"
        },
        "id": "cSikUZKu1YeB",
        "outputId": "411e3679-0ba5-4805-92a1-e3d74552414a"
      },
      "execution_count": null,
      "outputs": [
        {
          "output_type": "stream",
          "name": "stdout",
          "text": [
            "True\n"
          ]
        }
      ]
    },
    {
      "cell_type": "code",
      "source": [
        "def isEvenNum(l):\n",
        "    enum = []\n",
        "    for n in l:\n",
        "        if n % 2 == 0:\n",
        "            enum.append(n)\n",
        "    return enum\n",
        "print(isEvenNum([1, 2, 3, 4, 5, 6, 7, 8, 9]))\n"
      ],
      "metadata": {
        "colab": {
          "base_uri": "https://localhost:8080/"
        },
        "id": "OMe0oQbG1Yjk",
        "outputId": "edcef02d-fc3a-40be-bde2-2f4890de74ed"
      },
      "execution_count": null,
      "outputs": [
        {
          "output_type": "stream",
          "name": "stdout",
          "text": [
            "[2, 4, 6, 8]\n"
          ]
        }
      ]
    },
    {
      "cell_type": "code",
      "source": [
        "def perfectNumber(n):\n",
        "    sum = 0\n",
        "    for x in range(1, n):\n",
        "        if n % x == 0:\n",
        "            sum += x\n",
        "    return sum == n\n",
        "print(perfectNumber(6))\n"
      ],
      "metadata": {
        "colab": {
          "base_uri": "https://localhost:8080/"
        },
        "id": "cLah4znU1Yqg",
        "outputId": "99dd84b1-a367-45b9-b46a-54f56dabb11d"
      },
      "execution_count": null,
      "outputs": [
        {
          "output_type": "stream",
          "name": "stdout",
          "text": [
            "True\n"
          ]
        }
      ]
    },
    {
      "cell_type": "code",
      "source": [
        "def isPalindrome(string):\n",
        "\tleft_pos = 0\n",
        "\tright_pos = len(string) - 1\n",
        "\t\n",
        "\twhile right_pos >= left_pos:\n",
        "\t\tif not string[left_pos] == string[right_pos]:\n",
        "\t\t\treturn False\n",
        "\t\tleft_pos += 1\n",
        "\t\tright_pos -= 1\n",
        "\treturn True\n",
        "print(isPalindrome('aza'))"
      ],
      "metadata": {
        "colab": {
          "base_uri": "https://localhost:8080/"
        },
        "id": "ESZWZj2X3DLh",
        "outputId": "2c9bcc51-09db-44df-ceae-959e08221f0d"
      },
      "execution_count": null,
      "outputs": [
        {
          "output_type": "stream",
          "name": "stdout",
          "text": [
            "True\n"
          ]
        }
      ]
    },
    {
      "cell_type": "code",
      "source": [
        "def pascalTriangle(n):\n",
        "   trow = [1]\n",
        "   y = [0]\n",
        "   for x in range(max(n,0)):\n",
        "      print(trow)\n",
        "      trow=[l+r for l,r in zip(trow+y, y+trow)]\n",
        "   return n>=1\n",
        "pascalTriangle(6) "
      ],
      "metadata": {
        "colab": {
          "base_uri": "https://localhost:8080/"
        },
        "id": "Ga5hIGxF3DPn",
        "outputId": "7a73b0bb-ea99-4312-bea4-a2b228f2c781"
      },
      "execution_count": null,
      "outputs": [
        {
          "output_type": "stream",
          "name": "stdout",
          "text": [
            "[1]\n",
            "[1, 1]\n",
            "[1, 2, 1]\n",
            "[1, 3, 3, 1]\n",
            "[1, 4, 6, 4, 1]\n",
            "[1, 5, 10, 10, 5, 1]\n"
          ]
        },
        {
          "output_type": "execute_result",
          "data": {
            "text/plain": [
              "True"
            ]
          },
          "metadata": {},
          "execution_count": 17
        }
      ]
    },
    {
      "cell_type": "code",
      "source": [
        "import string, sys\n",
        "def ispangram(str1, alphabet=string.ascii_lowercase):\n",
        "    alphaset = set(alphabet)\n",
        "    return alphaset <= set(str1.lower())\n",
        " \n",
        "print ( ispangram('The quick brown fox jumps over the lazy dog'));"
      ],
      "metadata": {
        "colab": {
          "base_uri": "https://localhost:8080/"
        },
        "id": "U3ePiiJL3DSK",
        "outputId": "c91b84a5-6eb0-47a5-9b88-14b7cb659dfb"
      },
      "execution_count": null,
      "outputs": [
        {
          "output_type": "stream",
          "name": "stdout",
          "text": [
            "True\n"
          ]
        }
      ]
    },
    {
      "cell_type": "code",
      "source": [
        "items=[n for n in input().split('-')]\n",
        "items.sort()\n",
        "print('-'.join(items))"
      ],
      "metadata": {
        "colab": {
          "base_uri": "https://localhost:8080/"
        },
        "id": "81w7OfQ63DVC",
        "outputId": "997f9674-15f4-4a8d-f512-8b72116af8a1"
      },
      "execution_count": null,
      "outputs": [
        {
          "output_type": "stream",
          "name": "stdout",
          "text": [
            "Its-Me-How-Are-You\n",
            "Are-How-Its-Me-You\n"
          ]
        }
      ]
    },
    {
      "cell_type": "code",
      "source": [
        "def printValues():\n",
        "\tl = list()\n",
        "\tfor i in range(1,21):\n",
        "\t\tl.append(i**2)\n",
        "\tprint(l)\n",
        "\t\t\n",
        "printValues()"
      ],
      "metadata": {
        "colab": {
          "base_uri": "https://localhost:8080/"
        },
        "id": "Mm5REfnu3DXF",
        "outputId": "c664db5a-c839-42fe-cbea-d02f363dd324"
      },
      "execution_count": null,
      "outputs": [
        {
          "output_type": "stream",
          "name": "stdout",
          "text": [
            "[1, 4, 9, 16, 25, 36, 49, 64, 81, 100, 121, 144, 169, 196, 225, 256, 289, 324, 361, 400]\n"
          ]
        }
      ]
    },
    {
      "cell_type": "code",
      "source": [
        "def make_bold(fn):\n",
        "    def wrapped():\n",
        "        return \"<b>\" + fn() + \"</b>\"\n",
        "    return wrapped\n",
        "\n",
        "def make_italic(fn):\n",
        "    def wrapped():\n",
        "        return \"<i>\" + fn() + \"</i>\"\n",
        "    return wrapped\n",
        "\n",
        "def make_underline(fn):\n",
        "    def wrapped():\n",
        "        return \"<u>\" + fn() + \"</u>\"\n",
        "    return wrapped\n",
        "@make_bold\n",
        "@make_italic\n",
        "@make_underline\n",
        "def hello():\n",
        "    return \"hello world\"\n",
        "print(hello())\n"
      ],
      "metadata": {
        "colab": {
          "base_uri": "https://localhost:8080/"
        },
        "id": "_DprPsVr3DZH",
        "outputId": "dd275b01-43f6-4798-bbb5-f56612b77749"
      },
      "execution_count": null,
      "outputs": [
        {
          "output_type": "stream",
          "name": "stdout",
          "text": [
            "<b><i><u>hello world</u></i></b>\n"
          ]
        }
      ]
    },
    {
      "cell_type": "code",
      "source": [
        "myCode = 'print(\"hello world\")'\n",
        "code = \"\"\"\n",
        "def mutiply(x,y):\n",
        "    return x*y\n",
        "\n",
        "print('Multiply of 2 and 3 is: ',mutiply(2,3))\n",
        "\"\"\"\n",
        "exec(myCode)\n",
        "exec(code)"
      ],
      "metadata": {
        "colab": {
          "base_uri": "https://localhost:8080/"
        },
        "id": "gRxouyGy3Db7",
        "outputId": "2535707b-85fb-43c8-f82e-901bbe8e16d0"
      },
      "execution_count": null,
      "outputs": [
        {
          "output_type": "stream",
          "name": "stdout",
          "text": [
            "hello world\n",
            "Multiply of 2 and 3 is:  6\n"
          ]
        }
      ]
    },
    {
      "cell_type": "code",
      "source": [
        "def test(a):\n",
        "        def add(b):\n",
        "                nonlocal a\n",
        "                a += 1\n",
        "                return a+b\n",
        "        return add\n",
        "func= test(4)\n",
        "print(func(4))"
      ],
      "metadata": {
        "colab": {
          "base_uri": "https://localhost:8080/"
        },
        "id": "YwMfwoWT7FXC",
        "outputId": "4040f9fc-9d06-4721-df64-6a45b35b7f57"
      },
      "execution_count": null,
      "outputs": [
        {
          "output_type": "stream",
          "name": "stdout",
          "text": [
            "9\n"
          ]
        }
      ]
    },
    {
      "cell_type": "code",
      "source": [
        "def abc():\n",
        "    x = 1\n",
        "    y = 2\n",
        "    str1= \"w3resource\"\n",
        "    print(\"Python Exercises\")\n",
        "\n",
        "print(abc.__code__.co_nlocals)"
      ],
      "metadata": {
        "colab": {
          "base_uri": "https://localhost:8080/"
        },
        "id": "M_Oklr6j7Yd-",
        "outputId": "9d21f25b-9b41-44fa-ba04-378b9283efdf"
      },
      "execution_count": null,
      "outputs": [
        {
          "output_type": "stream",
          "name": "stdout",
          "text": [
            "3\n"
          ]
        }
      ]
    },
    {
      "cell_type": "code",
      "source": [
        "from time import sleep\n",
        "import math\n",
        "def delay(fn, ms, *args):\n",
        "  sleep(ms / 1000)\n",
        "  return fn(*args)\n",
        "print(\"Square root after specific miliseconds:\") \n",
        "print(delay(lambda x: math.sqrt(x), 100, 16))\n",
        "print(delay(lambda x: math.sqrt(x), 1000, 100))\n",
        "print(delay(lambda x: math.sqrt(x), 2000, 25100))"
      ],
      "metadata": {
        "colab": {
          "base_uri": "https://localhost:8080/"
        },
        "id": "dq6SOwxd7Ywd",
        "outputId": "94c473b1-f21d-4d4e-e48b-78f0b14a204b"
      },
      "execution_count": null,
      "outputs": [
        {
          "output_type": "stream",
          "name": "stdout",
          "text": [
            "Square root after specific miliseconds:\n",
            "4.0\n",
            "10.0\n",
            "158.42979517754858\n"
          ]
        }
      ]
    },
    {
      "cell_type": "code",
      "source": [
        "print(\"Choice 1: Add, 2: Subraction, 3: Division, 4: Multiplication, 5: Quit\")\n",
        "n1 = input(\"Enter the choice of Operation :\")\n",
        "n = int(n1)\n",
        "if (n == 1):\n",
        "  print(\"You have chosen addition Option....\")\n",
        "  a1 = input(\"Enter the value for A :\")\n",
        "  b1 = input(\"Enter the value for B :\")\n",
        "  a = int(a1)\n",
        "  b = int(b1)\n",
        "  c = a + b\n",
        "  print(\"The Result of \",a,\" + \",b,\" is \",c)\n",
        "elif (n == 2):\n",
        "  print(\"You have chosen subraction Option....\")\n",
        "  a1 = input(\"Enter the value for A :\")\n",
        "  b1 = input(\"Enter the value for B :\")\n",
        "  a = int(a1)\n",
        "  b = int(b1)\n",
        "  c = a - b\n",
        "  print(\"The Result of \",a,\" - \",b,\" is \",c)\n",
        "elif (n == 3):\n",
        "  print(\"You have chosen division Option....\")\n",
        "  a1 = input(\"Enter the value for A :\")\n",
        "  b1 = input(\"Enter the value for B :\")\n",
        "  a = int(a1)\n",
        "  b = int(b1)\n",
        "  c = a * b\n",
        "  print(\"The Result of \",a,\" / \",b,\" is \",c)\n",
        "elif (n == 4):\n",
        "  print(\"You have chosen multiplication Option....\")\n",
        "  a1 = input(\"Enter the value for A :\")\n",
        "  b1 = input(\"Enter the value for B :\")\n",
        "  a = int(a1)\n",
        "  b = int(b1)\n",
        "  c = a / b\n",
        "  print(\"The Result of \",a,\" * \",b,\" is \",c)\n",
        "elif (n == 5):\n",
        "  print(\"Exited\")\n",
        "  exit()\n",
        "else:\n",
        "  print(\"You have entered a wrong number\")"
      ],
      "metadata": {
        "id": "u56v5weW-X2J",
        "colab": {
          "base_uri": "https://localhost:8080/"
        },
        "outputId": "4b6df88c-1099-41b8-a2ad-a1299cc8a9d5"
      },
      "execution_count": null,
      "outputs": [
        {
          "output_type": "stream",
          "name": "stdout",
          "text": [
            "Choice 1: Add, 2: Subraction, 3: Division, 4: Multiplication, 5: Quit\n",
            "Enter the choice of Operation :6\n",
            "You have entered a wrong number\n"
          ]
        }
      ]
    },
    {
      "cell_type": "code",
      "source": [
        "#boolean expression\n",
        "a=True\n",
        "b=False\n",
        "print('a= ',a,'b= ',b)\n",
        "a=False;\n",
        "print('a= ',a,'b= ',b)"
      ],
      "metadata": {
        "colab": {
          "base_uri": "https://localhost:8080/"
        },
        "id": "lmPlKlf1fa1A",
        "outputId": "cb0cecf7-86c9-44c3-cbf1-f8b3e2dbdb70"
      },
      "execution_count": null,
      "outputs": [
        {
          "output_type": "stream",
          "name": "stdout",
          "text": [
            "a=  True b=  False\n",
            "a=  False b=  False\n"
          ]
        }
      ]
    },
    {
      "cell_type": "code",
      "source": [
        "# Get two integers from the user\n",
        "dividend, divisor = eval(input('Please enter two to divide: '))\n",
        "# If possible, divide them and print the result\n",
        "if divisor != 0:\n",
        "  print(dividend,'/',divisor,' = ', dividend/divisor)\n",
        "else:\n",
        "  print('Divsion by is not allowed.')"
      ],
      "metadata": {
        "colab": {
          "base_uri": "https://localhost:8080/"
        },
        "id": "drGGgsiIgKxn",
        "outputId": "b0e4b3c0-9050-47d1-ccc7-ef7cefc09bb1"
      },
      "execution_count": null,
      "outputs": [
        {
          "output_type": "stream",
          "name": "stdout",
          "text": [
            "Please enter two to divide: 22,2\n",
            "22 / 2  =  11.0\n"
          ]
        }
      ]
    },
    {
      "cell_type": "code",
      "source": [
        "#nested loop\n",
        "print(\"     1  2  3  4  5  6  7  8  9  10\")\n",
        "print(\"    <---------------------------->\")\n",
        "for row in range(1,11):\n",
        "  if row<10:\n",
        "    print(\" \",end=\" \")\n",
        "    for column in range(1,11):\n",
        "      product=row*column;\n",
        "      if product<100:\n",
        "        print(end=\" \")\n",
        "      if product<10:\n",
        "        print(end=\" \")\n",
        "      print(product,end=\" \")\n",
        "    print()"
      ],
      "metadata": {
        "colab": {
          "base_uri": "https://localhost:8080/"
        },
        "id": "RREccTRjfa30",
        "outputId": "bf31f70b-09f2-4682-808f-3029dc88899a"
      },
      "execution_count": null,
      "outputs": [
        {
          "output_type": "stream",
          "name": "stdout",
          "text": [
            "     1  2  3  4  5  6  7  8  9  10\n",
            "    <---------------------------->\n",
            "    1   2   3   4   5   6   7   8   9  10 \n",
            "    2   4   6   8  10  12  14  16  18  20 \n",
            "    3   6   9  12  15  18  21  24  27  30 \n",
            "    4   8  12  16  20  24  28  32  36  40 \n",
            "    5  10  15  20  25  30  35  40  45  50 \n",
            "    6  12  18  24  30  36  42  48  54  60 \n",
            "    7  14  21  28  35  42  49  56  63  70 \n",
            "    8  16  24  32  40  48  56  64  72  80 \n",
            "    9  18  27  36  45  54  63  72  81  90 \n"
          ]
        }
      ]
    },
    {
      "cell_type": "code",
      "source": [
        "#while \n",
        "entry=0\n",
        "sum=0\n",
        "print(\"Enter numbers to sum, negative number ends list: \")\n",
        "while entry >=0:\n",
        "  entry =eval(input())\n",
        "  if entry >=0:\n",
        "    sum+=entry\n",
        "print(\"sum=\",sum)"
      ],
      "metadata": {
        "colab": {
          "base_uri": "https://localhost:8080/"
        },
        "id": "21Q_ZkkMfa8v",
        "outputId": "ca096c15-bb5b-4a2d-e5af-0686487dfe94"
      },
      "execution_count": null,
      "outputs": [
        {
          "output_type": "stream",
          "name": "stdout",
          "text": [
            "Enter numbers to sum, negative number ends list: \n",
            "6\n",
            "7\n",
            "-2\n",
            "sum= 13\n"
          ]
        }
      ]
    },
    {
      "cell_type": "code",
      "source": [
        "#elif statement\n",
        "value=eval(input(\"Please enter an integer in the range 0....5: \"))\n",
        "if value<0:\n",
        "  print(\"To0o small\")\n",
        "else:\n",
        "  if value ==0:\n",
        "    print(\"zero\")\n",
        "  else:\n",
        "    if value==1:\n",
        "      print(\"one\")\n",
        "    else:\n",
        "      if value ==2:\n",
        "        print(\"two\")\n",
        "      else:\n",
        "        if value==3:\n",
        "          print(\"three\")\n",
        "        else:\n",
        "          if value==4:\n",
        "            print(\"four\")\n",
        "          else:\n",
        "            if value==5:\n",
        "              print(\"five\")\n",
        "            else:\n",
        "              print(\"too large\")\n",
        "  print(\"done\")"
      ],
      "metadata": {
        "colab": {
          "base_uri": "https://localhost:8080/"
        },
        "id": "IEphN6dPfbIK",
        "outputId": "25d61832-b1fa-42a1-ff3e-70df9bbaaa3e"
      },
      "execution_count": null,
      "outputs": [
        {
          "output_type": "stream",
          "name": "stdout",
          "text": [
            "Please enter an integer in the range 0....5: 4\n",
            "four\n",
            "done\n"
          ]
        }
      ]
    },
    {
      "cell_type": "code",
      "source": [
        "#Declare a variable\n",
        "Number=25\n",
        "Name=\"Kiran\"\n",
        "B=3.5\n",
        "print(Number)\n",
        "print(Name)\n",
        "print(B)"
      ],
      "metadata": {
        "id": "XoT7dm-rfbQS",
        "outputId": "0973de3d-da01-4a1b-de07-7838ca0d0642",
        "colab": {
          "base_uri": "https://localhost:8080/"
        }
      },
      "execution_count": null,
      "outputs": [
        {
          "output_type": "stream",
          "name": "stdout",
          "text": [
            "25\n",
            "Kiran\n",
            "3.5\n"
          ]
        }
      ]
    },
    {
      "cell_type": "code",
      "source": [
        "#Redeclare a variable\n",
        "Name=\"Python\"\n",
        "print(Name)"
      ],
      "metadata": {
        "id": "Z2zHIjEc4p7w",
        "outputId": "f613584e-aec3-4fb0-9e2e-e634cd8811e7",
        "colab": {
          "base_uri": "https://localhost:8080/"
        }
      },
      "execution_count": null,
      "outputs": [
        {
          "output_type": "stream",
          "name": "stdout",
          "text": [
            "Python\n"
          ]
        }
      ]
    },
    {
      "cell_type": "code",
      "source": [
        "#Multiple assignment\n",
        "x=y=z=\"SoftwareTestingHelp\"\n",
        "print(x)\n",
        "print(y)\n",
        "print(z)\n",
        "a,b,c=5,3.2,\"Hello\"\n",
        "print(a)\n",
        "print(b)\n",
        "print(c)"
      ],
      "metadata": {
        "id": "keWvbPL643Ud",
        "outputId": "fa3295c6-d88b-452e-f699-fd5c34b8bd90",
        "colab": {
          "base_uri": "https://localhost:8080/"
        }
      },
      "execution_count": null,
      "outputs": [
        {
          "output_type": "stream",
          "name": "stdout",
          "text": [
            "SoftwareTestingHelp\n",
            "SoftwareTestingHelp\n",
            "SoftwareTestingHelp\n",
            "5\n",
            "3.2\n",
            "Hello\n"
          ]
        }
      ]
    },
    {
      "cell_type": "code",
      "source": [
        "#Numbers\n",
        "a=5\n",
        "print(a,\"is of type\",type(a))\n"
      ],
      "metadata": {
        "id": "N9hrA_s05Db3",
        "outputId": "5041c299-fdb5-4ca7-a7b7-97b8e2872e2c",
        "colab": {
          "base_uri": "https://localhost:8080/"
        }
      },
      "execution_count": null,
      "outputs": [
        {
          "output_type": "stream",
          "name": "stdout",
          "text": [
            "5 is of type <class 'int'>\n"
          ]
        }
      ]
    },
    {
      "cell_type": "code",
      "source": [
        "#String\n",
        "String1=\"Welcome\"\n",
        "String2=\"To python\"\n",
        "print(String1+String2)\n",
        "#slicing\n",
        "print(String1[2:5])"
      ],
      "metadata": {
        "id": "Bco8U0gb9YGc",
        "outputId": "13bf62f3-3e3f-4aa6-9987-3d36640bcfc9",
        "colab": {
          "base_uri": "https://localhost:8080/"
        }
      },
      "execution_count": 9,
      "outputs": [
        {
          "output_type": "stream",
          "name": "stdout",
          "text": [
            "WelcomeTo python\n",
            "lco\n"
          ]
        }
      ]
    },
    {
      "cell_type": "code",
      "source": [
        "#List\n",
        "List=[2,4,5,5,\"Hi\"]\n",
        "print(\"List[2]\",List[2])"
      ],
      "metadata": {
        "id": "3j9IknmD-BpZ",
        "outputId": "5f863bbf-dc25-4fd7-eb0a-fea2cbb6c58a",
        "colab": {
          "base_uri": "https://localhost:8080/"
        }
      },
      "execution_count": 1,
      "outputs": [
        {
          "output_type": "stream",
          "name": "stdout",
          "text": [
            "List[2] 5\n"
          ]
        }
      ]
    },
    {
      "cell_type": "code",
      "source": [
        "#Tuple\n",
        "Tuple=(50,15,25.6,\"Python\")\n",
        "print(\"Tuple[1]=\",Tuple[1])"
      ],
      "metadata": {
        "id": "ozp-3Npwb1va",
        "outputId": "b824acc7-569a-4ab3-a3ff-cee73e9d8fcb",
        "colab": {
          "base_uri": "https://localhost:8080/"
        }
      },
      "execution_count": 4,
      "outputs": [
        {
          "output_type": "stream",
          "name": "stdout",
          "text": [
            "Tuple[1]= 15\n"
          ]
        }
      ]
    },
    {
      "cell_type": "code",
      "source": [
        "#Set\n",
        "Set={5,1,2.6,\"python\"}\n",
        "print(Set)"
      ],
      "metadata": {
        "id": "y7rvp_pQcS8-",
        "outputId": "8dc297a1-923a-4af0-f10c-260d68a2f702",
        "colab": {
          "base_uri": "https://localhost:8080/"
        }
      },
      "execution_count": 5,
      "outputs": [
        {
          "output_type": "stream",
          "name": "stdout",
          "text": [
            "{'python', 1, 2.6, 5}\n"
          ]
        }
      ]
    },
    {
      "cell_type": "code",
      "source": [
        "#Dictionary\n",
        "Dict={1:'Hi',2:7.5,3:'Class'}\n",
        "print(Dict)"
      ],
      "metadata": {
        "id": "rHsjteQocb5f",
        "outputId": "dc94e75a-10e8-4932-f424-ccdb739461cc",
        "colab": {
          "base_uri": "https://localhost:8080/"
        }
      },
      "execution_count": 7,
      "outputs": [
        {
          "output_type": "stream",
          "name": "stdout",
          "text": [
            "{1: 'Hi', 2: 7.5, 3: 'Class'}\n"
          ]
        }
      ]
    },
    {
      "cell_type": "code",
      "source": [
        "#Arithmetic operators\n",
        "x=15\n",
        "y=10\n",
        "print('x+y=',x+y)\n",
        "print('x-y=',x-y)\n",
        "print('x*y=',x*y)\n",
        "print('x/y=',x/y)\n",
        "print('x//y=',x//y)"
      ],
      "metadata": {
        "id": "FNaZKvR_c9u6",
        "outputId": "46519ba8-7781-4b33-9d9d-15c2810713b7",
        "colab": {
          "base_uri": "https://localhost:8080/"
        }
      },
      "execution_count": 8,
      "outputs": [
        {
          "output_type": "stream",
          "name": "stdout",
          "text": [
            "x+y= 25\n",
            "x-y= 5\n",
            "x*y= 150\n",
            "x/y= 1.5\n",
            "x//y= 1\n"
          ]
        }
      ]
    },
    {
      "cell_type": "code",
      "source": [
        "#comparison Operators\n",
        "x=8\n",
        "y=15\n",
        "print('x>y is',x>y)\n",
        "print('x<y is',x<y)\n",
        "print('x==y is',x==y)\n",
        "print('x!=y is',x!=y)\n",
        "print('x>=y is',x>=y)\n",
        "print('x<=y is',x<=y)\n"
      ],
      "metadata": {
        "id": "ahqWg-WEe3NC",
        "outputId": "dad0e700-5ece-46e0-e67e-b31c0619f269",
        "colab": {
          "base_uri": "https://localhost:8080/"
        }
      },
      "execution_count": 10,
      "outputs": [
        {
          "output_type": "stream",
          "name": "stdout",
          "text": [
            "x>y is False\n",
            "x<y is True\n",
            "x==y is False\n",
            "x!=y is True\n",
            "x>=y is False\n",
            "x<=y is True\n"
          ]
        }
      ]
    },
    {
      "cell_type": "code",
      "source": [
        "#logical operators\n",
        "a=True\n",
        "b=False\n",
        "print('a and b is',a and b)\n",
        "print('a or b is',a and b)\n",
        "print('a not b is',a and b)\n",
        "\n"
      ],
      "metadata": {
        "id": "a1N94jGUfZza",
        "outputId": "dc4939be-4754-42fc-e3c1-0488bcf0e4c8",
        "colab": {
          "base_uri": "https://localhost:8080/"
        }
      },
      "execution_count": 11,
      "outputs": [
        {
          "output_type": "stream",
          "name": "stdout",
          "text": [
            "a and b is False\n",
            "a or b is False\n",
            "a not b is False\n"
          ]
        }
      ]
    },
    {
      "cell_type": "code",
      "source": [
        "#identity operator\n",
        "a1=3\n",
        "b1=3\n",
        "a2=\"Python\"\n",
        "b2=\"Python\"\n",
        "a3=[4,5,6]\n",
        "b3=[4,5,6]\n",
        "print(a1 is not b1)\n",
        "print(a2 is b2)\n",
        "print(a3 is b3)"
      ],
      "metadata": {
        "id": "A-ASxT73fstA",
        "outputId": "3e5fdfbb-fcb8-4100-e7bb-1aec7ea9589c",
        "colab": {
          "base_uri": "https://localhost:8080/"
        }
      },
      "execution_count": 12,
      "outputs": [
        {
          "output_type": "stream",
          "name": "stdout",
          "text": [
            "False\n",
            "True\n",
            "False\n"
          ]
        }
      ]
    },
    {
      "cell_type": "code",
      "source": [
        "#Membership operator\n",
        "a=\"Python operators\"\n",
        "b={1:'x',2:'y'}\n",
        "print(\"P\" in a)\n",
        "print(1 in b)\n",
        "print('y' in b)"
      ],
      "metadata": {
        "id": "Xx1g1DkkgHIy",
        "outputId": "79381d25-0e59-440e-ef95-2a3eb8e8e8c8",
        "colab": {
          "base_uri": "https://localhost:8080/"
        }
      },
      "execution_count": 13,
      "outputs": [
        {
          "output_type": "stream",
          "name": "stdout",
          "text": [
            "True\n",
            "True\n",
            "False\n"
          ]
        }
      ]
    },
    {
      "cell_type": "code",
      "source": [
        "#if statement\n",
        "num=5\n",
        "if( num<10):\n",
        "  print(\"Num is smaller than 10\")"
      ],
      "metadata": {
        "id": "kswp_qZYgX8b",
        "outputId": "cb98bc38-a83f-4d5a-bbb9-bcdaef278ae9",
        "colab": {
          "base_uri": "https://localhost:8080/"
        }
      },
      "execution_count": 14,
      "outputs": [
        {
          "output_type": "stream",
          "name": "stdout",
          "text": [
            "Num is smaller than 10\n"
          ]
        }
      ]
    },
    {
      "cell_type": "code",
      "source": [
        "#if-else statement\n",
        "num=5\n",
        "if(num>10):\n",
        "  print(\"number is greater than 10\")\n",
        "else:\n",
        "  print(\"number is less than 10\")"
      ],
      "metadata": {
        "id": "K1ix7nYLgkFZ",
        "outputId": "f7544272-e03f-4ba1-b52f-53c1713b2a82",
        "colab": {
          "base_uri": "https://localhost:8080/"
        }
      },
      "execution_count": 16,
      "outputs": [
        {
          "output_type": "stream",
          "name": "stdout",
          "text": [
            "number is less than 10\n"
          ]
        }
      ]
    },
    {
      "cell_type": "code",
      "source": [
        "#elif statements\n",
        "num=10\n",
        "if(num==0):\n",
        "  print(\"Number is Zero\")\n",
        "elif(num>5):\n",
        "  print(\"Number is greater than 5\")\n",
        "else:\n",
        "  print(\"Number is smaller than 5\")"
      ],
      "metadata": {
        "id": "Vb5tLPyEgkG6",
        "outputId": "ce1aaad3-1964-4c0a-93f3-78361ec24dea",
        "colab": {
          "base_uri": "https://localhost:8080/"
        }
      },
      "execution_count": 18,
      "outputs": [
        {
          "output_type": "stream",
          "name": "stdout",
          "text": [
            "Number is greater than 5\n"
          ]
        }
      ]
    },
    {
      "cell_type": "code",
      "source": [
        "#nested if-else statements\n",
        "num=5\n",
        "if(num>0):\n",
        "  print(\"number is positive\")\n",
        "if(num<10):\n",
        "  print(\"number is less than 10\")"
      ],
      "metadata": {
        "id": "N6JlGxpghF2E",
        "outputId": "47b935d5-e020-4e06-c147-a17bf36e96ac",
        "colab": {
          "base_uri": "https://localhost:8080/"
        }
      },
      "execution_count": 19,
      "outputs": [
        {
          "output_type": "stream",
          "name": "stdout",
          "text": [
            "number is positive\n",
            "number is less than 10\n"
          ]
        }
      ]
    },
    {
      "cell_type": "code",
      "source": [
        "#elif ladder\n",
        "my_marks=90\n",
        "if(my_marks<35):\n",
        "  print(\"Sorry!,You failed the exam\")\n",
        "elif(my_marks>60 and my_marks>100):\n",
        "  print(\"Passed in First class\")\n",
        "else:\n",
        "  print(\"Passed in First class\")"
      ],
      "metadata": {
        "id": "_JlQeQyKhi7R",
        "outputId": "d54fe542-4166-45e4-9ff2-c55e8efb2330",
        "colab": {
          "base_uri": "https://localhost:8080/"
        }
      },
      "execution_count": 20,
      "outputs": [
        {
          "output_type": "stream",
          "name": "stdout",
          "text": [
            "Passed in First class\n"
          ]
        }
      ]
    },
    {
      "cell_type": "code",
      "source": [
        ""
      ],
      "metadata": {
        "id": "yHxnxJFyjBFq"
      },
      "execution_count": null,
      "outputs": []
    }
  ]
}