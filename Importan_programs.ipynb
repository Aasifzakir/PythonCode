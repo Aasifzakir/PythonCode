{
  "nbformat": 4,
  "nbformat_minor": 0,
  "metadata": {
    "colab": {
      "name": "Importan_programs.ipynb",
      "provenance": [],
      "collapsed_sections": [],
      "authorship_tag": "ABX9TyNIPnjEVFiEww1lvLApvvCs",
      "include_colab_link": true
    },
    "kernelspec": {
      "name": "python3",
      "display_name": "Python 3"
    },
    "language_info": {
      "name": "python"
    }
  },
  "cells": [
    {
      "cell_type": "markdown",
      "metadata": {
        "id": "view-in-github",
        "colab_type": "text"
      },
      "source": [
        "<a href=\"https://colab.research.google.com/github/Aasifzakir/PythonCode/blob/main/Importan_programs.ipynb\" target=\"_parent\"><img src=\"https://colab.research.google.com/assets/colab-badge.svg\" alt=\"Open In Colab\"/></a>"
      ]
    },
    {
      "cell_type": "code",
      "source": [
        "#Palindrome\n",
        "string=input((\"Enter a string:\"))\n",
        "if(string==string[::-1]):\n",
        "      print(\"The letter is a palindrome\")\n",
        "else:  \n",
        "      print(\"The letter is not a palindrome\")"
      ],
      "metadata": {
        "colab": {
          "base_uri": "https://localhost:8080/"
        },
        "id": "oTqfOrQwoOvm",
        "outputId": "dfcac878-6c9c-4907-b014-e6fce0baadc8"
      },
      "execution_count": null,
      "outputs": [
        {
          "output_type": "stream",
          "name": "stdout",
          "text": [
            "Enter a string:malayalam\n",
            "The letter is a palindrome\n"
          ]
        }
      ]
    },
    {
      "cell_type": "code",
      "source": [
        "#Simple method to reverse a string\n",
        "string1 = input(\"Enter a string\")\n",
        "reversedString = string1[::-1]\n",
        "print(reversedString)"
      ],
      "metadata": {
        "id": "cOe0hr1tDkc7",
        "outputId": "b2e0b9e2-226d-4bc7-f936-3304633c6155",
        "colab": {
          "base_uri": "https://localhost:8080/"
        }
      },
      "execution_count": null,
      "outputs": [
        {
          "output_type": "stream",
          "name": "stdout",
          "text": [
            "Enter a stringI am Aasif\n",
            "fisaA ma I\n"
          ]
        }
      ]
    },
    {
      "cell_type": "code",
      "source": [
        "#Prime number\n",
        "num = int(input(\"Enter a number: \"))\n",
        "if num > 1:\n",
        " for i in range(2, num//2):\n",
        "  if (num % i) == 0:\n",
        "   print(num, \"is not a prime number\")\n",
        "   break\n",
        "  else:\n",
        "   print(num, \"is a prime number\")"
      ],
      "metadata": {
        "id": "4zG6uM-usjKD",
        "outputId": "7faeefdb-7e32-4c4f-b260-ad5a4f079a80",
        "colab": {
          "base_uri": "https://localhost:8080/"
        }
      },
      "execution_count": null,
      "outputs": [
        {
          "output_type": "stream",
          "name": "stdout",
          "text": [
            "Enter a number: 6\n",
            "6 is not a prime number\n"
          ]
        }
      ]
    },
    {
      "cell_type": "code",
      "source": [
        "#Reversing string\n",
        "string = input(\"Enter a string : \")\n",
        "string2 = ''\n",
        "i = len(string)-1\n",
        "while(i>=0):\n",
        "  string2 = string2 + string[i]\n",
        "  i-=1\n",
        "print(\"The reversed string is\",string2)"
      ],
      "metadata": {
        "id": "VxMlunJ0-UFg",
        "outputId": "a7ef33ba-41e7-4132-c847-13aa94445d65",
        "colab": {
          "base_uri": "https://localhost:8080/"
        }
      },
      "execution_count": null,
      "outputs": [
        {
          "output_type": "stream",
          "name": "stdout",
          "text": [
            "Enter a string : Aasif\n",
            "The reversed string is fisaA\n"
          ]
        }
      ]
    },
    {
      "cell_type": "code",
      "source": [
        "#Fibonacci series\n",
        "num  = int(input(\"Enter a number : \"))\n",
        "n1, n2 = 0, 1\n",
        "sum = 0\n",
        "if (num<=0):\n",
        "  print(\"Please enter a number greater than zero\")\n",
        "else:\n",
        "  for i in range(0, num):\n",
        "    n1 = n2\n",
        "    n2 = sum\n",
        "    sum = n1 + n2\n",
        "    print(sum, end = \" \")"
      ],
      "metadata": {
        "id": "Xqngajun-URZ",
        "outputId": "84db01b1-8cbd-434b-997b-9eff351a8d61",
        "colab": {
          "base_uri": "https://localhost:8080/"
        }
      },
      "execution_count": null,
      "outputs": [
        {
          "output_type": "stream",
          "name": "stdout",
          "text": [
            "Enter a number : 10\n",
            "1 1 2 3 5 8 13 21 34 55 "
          ]
        }
      ]
    },
    {
      "cell_type": "code",
      "source": [
        "#factorial\n",
        "num = int(input(\"Enter a number: \"))\n",
        "fact = 1\n",
        "for i in range(1, num+1):\n",
        "  fact=fact*i\n",
        "print(fact)"
      ],
      "metadata": {
        "id": "W2h2zn_EBOCw",
        "outputId": "c56e7dd0-e1aa-4c53-9fef-f08ee5cfcfa9",
        "colab": {
          "base_uri": "https://localhost:8080/"
        }
      },
      "execution_count": null,
      "outputs": [
        {
          "output_type": "stream",
          "name": "stdout",
          "text": [
            "Enter a number: 5\n",
            "120\n"
          ]
        }
      ]
    }
  ]
}