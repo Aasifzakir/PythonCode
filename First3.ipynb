{
  "nbformat": 4,
  "nbformat_minor": 0,
  "metadata": {
    "colab": {
      "name": "First3.ipynb",
      "provenance": [],
      "collapsed_sections": [],
      "authorship_tag": "ABX9TyNVxhDrU4gdO2+IaTGnV1Hi",
      "include_colab_link": true
    },
    "kernelspec": {
      "name": "python3",
      "display_name": "Python 3"
    },
    "language_info": {
      "name": "python"
    }
  },
  "cells": [
    {
      "cell_type": "markdown",
      "metadata": {
        "id": "view-in-github",
        "colab_type": "text"
      },
      "source": [
        "<a href=\"https://colab.research.google.com/github/Aasifzakir/PythonCode/blob/main/First3.ipynb\" target=\"_parent\"><img src=\"https://colab.research.google.com/assets/colab-badge.svg\" alt=\"Open In Colab\"/></a>"
      ]
    },
    {
      "cell_type": "code",
      "execution_count": null,
      "metadata": {
        "colab": {
          "base_uri": "https://localhost:8080/"
        },
        "id": "a9oyddEoIgdG",
        "outputId": "aa0475c3-60f7-4c4b-8a8c-6947308a0a14"
      },
      "outputs": [
        {
          "output_type": "stream",
          "name": "stdout",
          "text": [
            "Enter the value of num1:11\n",
            "Enter the value of num2:33\n",
            "The sum of 11 and 33 is 44\n"
          ]
        }
      ],
      "source": [
        "num1=int(input(\"Enter the value of num1:\"));\n",
        "num2=int(input(\"Enter the value of num2:\"));\n",
        "sum = num1 + num2;\n",
        "print('The sum of {0} and {1} is {2}'.format(num1,num2,sum,));"
      ]
    },
    {
      "cell_type": "code",
      "source": [
        "num = float(input(\"Enter the value:\"));\n",
        "sqrt = num ** 0.5;\n",
        "print('The square root of the giver number is', sqrt);"
      ],
      "metadata": {
        "colab": {
          "base_uri": "https://localhost:8080/"
        },
        "id": "DFEoiNynIk4b",
        "outputId": "eb896003-69ae-4192-e01a-6d0fc7658019"
      },
      "execution_count": null,
      "outputs": [
        {
          "output_type": "stream",
          "name": "stdout",
          "text": [
            "Enter the value:25\n",
            "The square root of the giver number is 5.0\n"
          ]
        }
      ]
    },
    {
      "cell_type": "code",
      "source": [
        "x= 5;\n",
        "y = 10;\n",
        "temp= x;\n",
        "x = y;\n",
        "y = temp;\n",
        "print('The value of x after swapping',x);\n",
        "print('The value of y after swapping',y);"
      ],
      "metadata": {
        "colab": {
          "base_uri": "https://localhost:8080/"
        },
        "id": "CfsqjX6TIlPg",
        "outputId": "a256cce1-fffd-4036-8576-f5e85833dc5b"
      },
      "execution_count": null,
      "outputs": [
        {
          "output_type": "stream",
          "name": "stdout",
          "text": [
            "The value of x after swapping 10\n",
            "The value of y after swapping 5\n"
          ]
        }
      ]
    },
    {
      "cell_type": "code",
      "source": [
        "import cmath\n",
        "num = 1+2j\n",
        "num_sqrt = cmath.sqrt(num)\n",
        "print('The square root of {0} is {1:0.3f}+{2:0.3f}j'.format(num,num_sqrt.real,num_sqrt.imag))"
      ],
      "metadata": {
        "colab": {
          "base_uri": "https://localhost:8080/"
        },
        "id": "emua2mk_LIr7",
        "outputId": "ff60022e-c91e-4e8e-c57c-013f9e04ad86"
      },
      "execution_count": null,
      "outputs": [
        {
          "output_type": "stream",
          "name": "stdout",
          "text": [
            "The square root of (1+2j) is 1.272+0.786j\n"
          ]
        }
      ]
    },
    {
      "cell_type": "code",
      "source": [
        "a,b,c = 11,12,13\n",
        "s= (a+b+c)/2\n",
        "area= (s*(s-a)*(s-b)*(s-c)) ** 0.5\n",
        "print('The area of the triangle is %0.2f' %area)"
      ],
      "metadata": {
        "colab": {
          "base_uri": "https://localhost:8080/"
        },
        "id": "_gwtROu9OXu0",
        "outputId": "b3014196-779c-46a7-bd20-bf5e7a924b28"
      },
      "execution_count": null,
      "outputs": [
        {
          "output_type": "stream",
          "name": "stdout",
          "text": [
            "The area of the triangle is 61.48\n"
          ]
        }
      ]
    },
    {
      "cell_type": "code",
      "source": [
        "a = b = c ='same'\n",
        "print(a)\n",
        "print(b)\n",
        "print(c)"
      ],
      "metadata": {
        "colab": {
          "base_uri": "https://localhost:8080/"
        },
        "id": "W969Xt9iPHnB",
        "outputId": "045ba8c6-ced3-4b97-923e-efda0a12d520"
      },
      "execution_count": null,
      "outputs": [
        {
          "output_type": "stream",
          "name": "stdout",
          "text": [
            "same\n",
            "same\n",
            "same\n"
          ]
        }
      ]
    }
  ]
}