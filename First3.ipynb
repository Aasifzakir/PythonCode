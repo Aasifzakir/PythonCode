{
  "nbformat": 4,
  "nbformat_minor": 0,
  "metadata": {
    "colab": {
      "name": "First3.ipynb",
      "provenance": [],
      "collapsed_sections": [],
      "authorship_tag": "ABX9TyODBUOLiejv4gpBGwvDt7PM",
      "include_colab_link": true
    },
    "kernelspec": {
      "name": "python3",
      "display_name": "Python 3"
    },
    "language_info": {
      "name": "python"
    }
  },
  "cells": [
    {
      "cell_type": "markdown",
      "metadata": {
        "id": "view-in-github",
        "colab_type": "text"
      },
      "source": [
        "<a href=\"https://colab.research.google.com/github/Aasifzakir/PythonCode/blob/main/First3.ipynb\" target=\"_parent\"><img src=\"https://colab.research.google.com/assets/colab-badge.svg\" alt=\"Open In Colab\"/></a>"
      ]
    },
    {
      "cell_type": "code",
      "execution_count": 1,
      "metadata": {
        "colab": {
          "base_uri": "https://localhost:8080/"
        },
        "id": "a9oyddEoIgdG",
        "outputId": "aa0475c3-60f7-4c4b-8a8c-6947308a0a14"
      },
      "outputs": [
        {
          "output_type": "stream",
          "name": "stdout",
          "text": [
            "Enter the value of num1:11\n",
            "Enter the value of num2:33\n",
            "The sum of 11 and 33 is 44\n"
          ]
        }
      ],
      "source": [
        "num1=int(input(\"Enter the value of num1:\"));\n",
        "num2=int(input(\"Enter the value of num2:\"));\n",
        "sum = num1 + num2;\n",
        "print('The sum of {0} and {1} is {2}'.format(num1,num2,sum,));"
      ]
    },
    {
      "cell_type": "code",
      "source": [
        "num = float(input(\"Enter the value:\"));\n",
        "sqrt = num ** 0.5;\n",
        "print('The square root of the giver number is', sqrt);"
      ],
      "metadata": {
        "colab": {
          "base_uri": "https://localhost:8080/"
        },
        "id": "DFEoiNynIk4b",
        "outputId": "eb896003-69ae-4192-e01a-6d0fc7658019"
      },
      "execution_count": 2,
      "outputs": [
        {
          "output_type": "stream",
          "name": "stdout",
          "text": [
            "Enter the value:25\n",
            "The square root of the giver number is 5.0\n"
          ]
        }
      ]
    },
    {
      "cell_type": "code",
      "source": [
        "x= 5;\n",
        "y = 10;\n",
        "temp= x;\n",
        "x = y;\n",
        "y = temp;\n",
        "print('The value of x after swapping',x);\n",
        "print('The value of y after swapping',y);"
      ],
      "metadata": {
        "colab": {
          "base_uri": "https://localhost:8080/"
        },
        "id": "CfsqjX6TIlPg",
        "outputId": "a256cce1-fffd-4036-8576-f5e85833dc5b"
      },
      "execution_count": 3,
      "outputs": [
        {
          "output_type": "stream",
          "name": "stdout",
          "text": [
            "The value of x after swapping 10\n",
            "The value of y after swapping 5\n"
          ]
        }
      ]
    },
    {
      "cell_type": "code",
      "source": [
        ""
      ],
      "metadata": {
        "id": "emua2mk_LIr7"
      },
      "execution_count": null,
      "outputs": []
    }
  ]
}